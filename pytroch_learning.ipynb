{
 "cells": [
  {
   "cell_type": "code",
   "execution_count": 2,
   "id": "e9df2e83",
   "metadata": {},
   "outputs": [],
   "source": [
    "import torch"
   ]
  },
  {
   "cell_type": "code",
   "execution_count": 2,
   "id": "76b4f503",
   "metadata": {},
   "outputs": [
    {
     "data": {
      "text/plain": [
       "'1.12.1+cu116'"
      ]
     },
     "execution_count": 2,
     "metadata": {},
     "output_type": "execute_result"
    }
   ],
   "source": [
    "torch.__version__"
   ]
  },
  {
   "cell_type": "code",
   "execution_count": 13,
   "id": "0ca55ca0",
   "metadata": {},
   "outputs": [
    {
     "data": {
      "text/plain": [
       "tensor([[[ 0.9971,  1.0977, -0.6548],\n",
       "         [-0.9203,  0.6339,  1.5487],\n",
       "         [-0.9210,  0.1612,  0.5627]],\n",
       "\n",
       "        [[ 0.4903,  1.3551, -0.8745],\n",
       "         [ 0.1611, -1.0851, -1.7764],\n",
       "         [-1.7229, -2.6177,  1.2971]],\n",
       "\n",
       "        [[-0.6360, -0.2262, -1.6790],\n",
       "         [-0.5665, -0.3319, -1.2621],\n",
       "         [ 0.0250, -1.6080,  1.5135]]])"
      ]
     },
     "execution_count": 13,
     "metadata": {},
     "output_type": "execute_result"
    }
   ],
   "source": [
    "x=torch.randn(3,3,3)#构造一个3*3*3的张量，每个元素都从均值0，标准差为1的标准正态分布取值\n",
    "x"
   ]
  },
  {
   "cell_type": "markdown",
   "id": "d622f43c",
   "metadata": {},
   "source": [
    "* tensor是pytroch最基础的组成，相当于砖，所有的操作都是基于这个格式。"
   ]
  },
  {
   "cell_type": "markdown",
   "id": "8e12dca9",
   "metadata": {},
   "source": [
    "### 初始化"
   ]
  },
  {
   "cell_type": "code",
   "execution_count": 13,
   "id": "3472b574",
   "metadata": {},
   "outputs": [
    {
     "name": "stdout",
     "output_type": "stream",
     "text": [
      "tensor([ 0,  1,  2,  3,  4,  5,  6,  7,  8,  9, 10, 11])\n"
     ]
    },
    {
     "data": {
      "text/plain": [
       "torch.Size([12])"
      ]
     },
     "execution_count": 13,
     "metadata": {},
     "output_type": "execute_result"
    }
   ],
   "source": [
    "x=torch.arange(12) #创建一个行向量，包含从0开始的12个数\n",
    "print(x)\n",
    "x.shape"
   ]
  },
  {
   "cell_type": "code",
   "execution_count": 11,
   "id": "44fe95eb",
   "metadata": {},
   "outputs": [
    {
     "name": "stdout",
     "output_type": "stream",
     "text": [
      "tensor([[0, 0, 0],\n",
      "        [0, 0, 0],\n",
      "        [0, 0, 0]])\n"
     ]
    }
   ],
   "source": [
    "x=torch.zeros(3,3,dtype=torch.long)#初始化全0矩阵\n",
    "print(x)"
   ]
  },
  {
   "cell_type": "code",
   "execution_count": 25,
   "id": "db289be7",
   "metadata": {},
   "outputs": [
    {
     "name": "stdout",
     "output_type": "stream",
     "text": [
      "tensor([[ 0.0000e+00, -1.5846e+29,  4.6847e+21],\n",
      "        [ 3.6902e+19,  9.8091e-45,  1.8750e+00],\n",
      "        [ 0.0000e+00,  1.8750e+00,  0.0000e+00]])\n"
     ]
    }
   ],
   "source": [
    "x=torch.empty(3,3) #初始化一个空矩阵，里面的数近乎是0\n",
    "print(x)"
   ]
  },
  {
   "cell_type": "code",
   "execution_count": 15,
   "id": "e3c2f2f5",
   "metadata": {
    "scrolled": true
   },
   "outputs": [
    {
     "name": "stdout",
     "output_type": "stream",
     "text": [
      "tensor([[1., 1., 1.],\n",
      "        [1., 1., 1.],\n",
      "        [1., 1., 1.],\n",
      "        [1., 1., 1.],\n",
      "        [1., 1., 1.]], dtype=torch.float64)\n",
      "tensor([[-0.1618,  0.3646, -1.1965],\n",
      "        [ 0.0901,  0.8166,  2.1750],\n",
      "        [-0.0695,  0.8647,  0.9328],\n",
      "        [ 0.3932, -0.5875,  0.4524],\n",
      "        [-0.6571, -1.9826,  0.3405]])\n"
     ]
    }
   ],
   "source": [
    "x=x.new_ones(5,3,dtype=torch.double) #初始化全1的矩阵\n",
    "x_1=torch.randn_like(x,dtype=torch.float) #随机赋值\n",
    "print(x)\n",
    "print(x_1)"
   ]
  },
  {
   "cell_type": "code",
   "execution_count": 16,
   "id": "aab49bf4",
   "metadata": {},
   "outputs": [
    {
     "data": {
      "text/plain": [
       "torch.Size([5, 3])"
      ]
     },
     "execution_count": 16,
     "metadata": {},
     "output_type": "execute_result"
    }
   ],
   "source": [
    "x.shape #查询张量的形状"
   ]
  },
  {
   "cell_type": "code",
   "execution_count": 17,
   "id": "986cfe8e",
   "metadata": {
    "scrolled": true
   },
   "outputs": [
    {
     "data": {
      "text/plain": [
       "torch.Size([5, 3])"
      ]
     },
     "execution_count": 17,
     "metadata": {},
     "output_type": "execute_result"
    }
   ],
   "source": [
    "x.size()#查询张量的大小"
   ]
  },
  {
   "cell_type": "code",
   "execution_count": 18,
   "id": "8582f7fb",
   "metadata": {},
   "outputs": [
    {
     "data": {
      "text/plain": [
       "15"
      ]
     },
     "execution_count": 18,
     "metadata": {},
     "output_type": "execute_result"
    }
   ],
   "source": [
    "x.numel()#查询张量元素个数"
   ]
  },
  {
   "cell_type": "code",
   "execution_count": 30,
   "id": "35d81650",
   "metadata": {},
   "outputs": [
    {
     "data": {
      "text/plain": [
       "tensor([[2, 1, 4, 3],\n",
       "        [1, 2, 3, 4],\n",
       "        [4, 3, 2, 1]])"
      ]
     },
     "execution_count": 30,
     "metadata": {},
     "output_type": "execute_result"
    }
   ],
   "source": [
    "torch.tensor([[2,1,4,3],[1,2,3,4],[4,3,2,1]])#也可以直接用list的方式指定张量的数值"
   ]
  },
  {
   "cell_type": "markdown",
   "id": "6fe4eda5",
   "metadata": {},
   "source": [
    "### 基本计算方法\n",
    "\n",
    "* 对于具有相同形状的张量，常见标量算数运算符：+，-，X，/ 和 ** 都可以升级为按张量元素运算。"
   ]
  },
  {
   "cell_type": "code",
   "execution_count": 34,
   "id": "821c1a25",
   "metadata": {
    "scrolled": true
   },
   "outputs": [
    {
     "name": "stdout",
     "output_type": "stream",
     "text": [
      "tensor([[0, 0, 0],\n",
      "        [0, 0, 0],\n",
      "        [0, 0, 0]])\n",
      "tensor([[1, 1, 1],\n",
      "        [1, 1, 1],\n",
      "        [1, 1, 1]])\n",
      "tensor([[1, 1, 1],\n",
      "        [1, 1, 1],\n",
      "        [1, 1, 1]])\n",
      "tensor([[1., 1., 1.],\n",
      "        [1., 1., 1.],\n",
      "        [1., 1., 1.]])\n"
     ]
    }
   ],
   "source": [
    "x=torch.zeros(3,3,dtype=torch.long)\n",
    "y=torch.ones(3,3,dtype=torch.long)\n",
    "print(x)\n",
    "print(y)\n",
    "print(x+y)\n",
    "torch.add(x,y,out=m) #可以指定输出\n",
    "print(m)"
   ]
  },
  {
   "cell_type": "code",
   "execution_count": 13,
   "id": "25075bf8",
   "metadata": {},
   "outputs": [
    {
     "data": {
      "text/plain": [
       "tensor([2.7183e+00, 7.3891e+00, 5.4598e+01, 2.9810e+03])"
      ]
     },
     "execution_count": 13,
     "metadata": {},
     "output_type": "execute_result"
    }
   ],
   "source": [
    "x=torch.tensor([1,2,4,8])\n",
    "torch.exp(x)#求e的幂运算"
   ]
  },
  {
   "cell_type": "markdown",
   "id": "df1d7c42",
   "metadata": {},
   "source": [
    "* 对张量中的所有元素进行求和，会产生一个单元素张量。"
   ]
  },
  {
   "cell_type": "code",
   "execution_count": 14,
   "id": "c2c1fa81",
   "metadata": {},
   "outputs": [
    {
     "data": {
      "text/plain": [
       "tensor(15)"
      ]
     },
     "execution_count": 14,
     "metadata": {},
     "output_type": "execute_result"
    }
   ],
   "source": [
    "x.sum()"
   ]
  },
  {
   "cell_type": "markdown",
   "id": "14388174",
   "metadata": {},
   "source": [
    "### 索引"
   ]
  },
  {
   "cell_type": "code",
   "execution_count": 75,
   "id": "5862c815",
   "metadata": {},
   "outputs": [
    {
     "name": "stdout",
     "output_type": "stream",
     "text": [
      "tensor([[0.4240, 0.5663, 0.1327],\n",
      "        [0.3214, 0.0229, 0.1923],\n",
      "        [0.2479, 0.9144, 0.1283],\n",
      "        [0.9712, 0.7739, 0.1685],\n",
      "        [0.8109, 0.0944, 0.4561]])\n",
      "tensor([0.9712, 0.7739])\n",
      "tensor([1.9712, 1.7739])\n",
      "tensor([1.9712, 1.7739])\n"
     ]
    }
   ],
   "source": [
    "x=torch.rand(5,3)\n",
    "print(x)\n",
    "y=x[3,:2] #索引里面带的数字为第3+1行的：2片段\n",
    "print(y)\n",
    "y+=1 #索引出来的结果与原数据共享内存，也即修改⼀个，另⼀个会跟着修改。\n",
    "print(y)\n",
    "print(x[3,:2])"
   ]
  },
  {
   "cell_type": "code",
   "execution_count": 3,
   "id": "16c858d5",
   "metadata": {},
   "outputs": [
    {
     "name": "stdout",
     "output_type": "stream",
     "text": [
      "tensor([[0.1111, 0.7556, 0.9046, 0.2639, 0.1440],\n",
      "        [0.2357, 0.3994, 0.8584, 0.8438, 0.0172],\n",
      "        [0.2811, 0.8119, 0.7136, 0.5025, 0.8260]])\n",
      "tensor([[0.1111, 0.7556, 0.9046, 0.2639, 0.1440],\n",
      "        [0.2357, 0.3994, 9.0000, 0.8438, 0.0172],\n",
      "        [0.2811, 0.8119, 0.7136, 0.5025, 0.8260]])\n"
     ]
    }
   ],
   "source": [
    "import torch\n",
    "import numpy as np\n",
    "x=torch.rand(3,5)\n",
    "print(x)\n",
    "x[1,2]=9 #可以通过索引赋值\n",
    "print(x)"
   ]
  },
  {
   "cell_type": "code",
   "execution_count": 5,
   "id": "d1dab961",
   "metadata": {},
   "outputs": [
    {
     "data": {
      "text/plain": [
       "tensor([[9.0000, 9.0000, 9.0000, 9.0000, 9.0000],\n",
       "        [9.0000, 9.0000, 9.0000, 9.0000, 9.0000],\n",
       "        [0.2811, 0.8119, 0.7136, 0.5025, 0.8260]])"
      ]
     },
     "execution_count": 5,
     "metadata": {},
     "output_type": "execute_result"
    }
   ],
   "source": [
    "x[0:2,:]=9 #还可以为多个元素赋值。本例对第1,2行所有列赋值9\n",
    "x"
   ]
  },
  {
   "cell_type": "markdown",
   "id": "93151746",
   "metadata": {},
   "source": [
    "### 基本操作"
   ]
  },
  {
   "cell_type": "code",
   "execution_count": 23,
   "id": "84d06d8e",
   "metadata": {},
   "outputs": [
    {
     "name": "stdout",
     "output_type": "stream",
     "text": [
      "torch.Size([4, 4, 4]) torch.Size([64]) torch.Size([16, 4]) torch.Size([8, 4, 2]) torch.Size([8, 8])\n",
      "tensor([[[-0.9957, -1.5283, -1.6896, -1.2061],\n",
      "         [-0.2836, -0.5924, -1.2302, -0.4813],\n",
      "         [ 1.1485, -0.1400, -0.6939,  2.0506],\n",
      "         [-0.1252, -1.3282,  0.2586,  2.0797]],\n",
      "\n",
      "        [[-0.5348,  0.6071,  0.8130, -1.2451],\n",
      "         [-0.2168, -0.7555,  0.1443,  0.0525],\n",
      "         [-0.5824, -0.9236, -0.8844,  1.6130],\n",
      "         [ 0.8998,  1.1626,  0.2959, -1.1470]],\n",
      "\n",
      "        [[-0.1761, -0.8108,  0.8976, -0.3051],\n",
      "         [ 0.1750,  1.1891, -0.5179,  1.2997],\n",
      "         [-0.7378,  0.1204,  0.1317, -1.2313],\n",
      "         [ 0.4601,  0.1559, -0.7458, -1.4825]],\n",
      "\n",
      "        [[ 1.2138, -0.1237,  0.1363, -0.7136],\n",
      "         [-0.0868, -0.6505, -0.2575,  0.0608],\n",
      "         [-0.4845,  0.2019, -1.4019, -1.3822],\n",
      "         [ 0.3971,  2.0497,  0.1520, -0.5565]]])\n",
      "tensor([[-0.9957, -1.5283, -1.6896, -1.2061, -0.2836, -0.5924, -1.2302, -0.4813],\n",
      "        [ 1.1485, -0.1400, -0.6939,  2.0506, -0.1252, -1.3282,  0.2586,  2.0797],\n",
      "        [-0.5348,  0.6071,  0.8130, -1.2451, -0.2168, -0.7555,  0.1443,  0.0525],\n",
      "        [-0.5824, -0.9236, -0.8844,  1.6130,  0.8998,  1.1626,  0.2959, -1.1470],\n",
      "        [-0.1761, -0.8108,  0.8976, -0.3051,  0.1750,  1.1891, -0.5179,  1.2997],\n",
      "        [-0.7378,  0.1204,  0.1317, -1.2313,  0.4601,  0.1559, -0.7458, -1.4825],\n",
      "        [ 1.2138, -0.1237,  0.1363, -0.7136, -0.0868, -0.6505, -0.2575,  0.0608],\n",
      "        [-0.4845,  0.2019, -1.4019, -1.3822,  0.3971,  2.0497,  0.1520, -0.5565]])\n"
     ]
    }
   ],
   "source": [
    "x=torch.randn(4,4,4) #矩阵维度为4*4*4\n",
    "y=x.view(64) #拉成一维，但必须为64，其他数字会报错;但实际上，x的维度是不会改变的，只是改变了x的视角\n",
    "z=x.view(16,4) #改成二维\n",
    "m=x.view(-1,4,2) #三维变换，-1为自动计算该维\n",
    "n=x.view(-1,8) #改成二维，其中一维自动计算\n",
    "print(x.size(),y.size(),z.size(),m.size(),n.size())\n",
    "print(x)\n",
    "print(n)"
   ]
  },
  {
   "cell_type": "code",
   "execution_count": 29,
   "id": "a332ce34",
   "metadata": {},
   "outputs": [
    {
     "name": "stdout",
     "output_type": "stream",
     "text": [
      "tensor([ 0,  1,  2,  3,  4,  5,  6,  7,  8,  9, 10, 11]) \n",
      " tensor([[ 0,  1,  2,  3],\n",
      "        [ 4,  5,  6,  7],\n",
      "        [ 8,  9, 10, 11]]) \n",
      " tensor([[ 0,  1,  2,  3,  4,  5],\n",
      "        [ 6,  7,  8,  9, 10, 11]])\n"
     ]
    },
    {
     "data": {
      "text/plain": [
       "tensor([ 0,  1,  2,  3,  4,  5,  6,  7,  8,  9, 10, 11])"
      ]
     },
     "execution_count": 29,
     "metadata": {},
     "output_type": "execute_result"
    }
   ],
   "source": [
    "x=torch.arange(12)\n",
    "x_1=x.reshape(3,4)#改变张量的形状，但不改变元素的数量和元素的值\n",
    "x_2=x.reshape(-1,6)#可以用-1调用自动计算维度的功能\n",
    "print(x,'\\n',x_1,'\\n',x_2)\n",
    "x #x还是没有改变"
   ]
  },
  {
   "cell_type": "code",
   "execution_count": 19,
   "id": "2b17aab7",
   "metadata": {},
   "outputs": [],
   "source": [
    "import numpy as np"
   ]
  },
  {
   "cell_type": "code",
   "execution_count": 12,
   "id": "5a211cb2",
   "metadata": {},
   "outputs": [
    {
     "data": {
      "text/plain": [
       "(tensor([[1, 1, 1],\n",
       "         [1, 1, 1],\n",
       "         [1, 1, 1]], dtype=torch.int32),\n",
       " array([[1, 1, 1],\n",
       "        [1, 1, 1],\n",
       "        [1, 1, 1]]))"
      ]
     },
     "execution_count": 12,
     "metadata": {},
     "output_type": "execute_result"
    }
   ],
   "source": [
    "a=torch.ones(3,3,dtype=torch.int) #为tensor格式\n",
    "b=a.numpy() #转化为array格式\n",
    "a,b #torch张量和numpy数组将共享它们的底层内存，就地操作更改一个张量也会同时更改另一个张量"
   ]
  },
  {
   "cell_type": "code",
   "execution_count": 13,
   "id": "01ec6b25",
   "metadata": {},
   "outputs": [
    {
     "data": {
      "text/plain": [
       "(array([1., 1., 1.]), tensor([1., 1., 1.], dtype=torch.float64))"
      ]
     },
     "execution_count": 13,
     "metadata": {},
     "output_type": "execute_result"
    }
   ],
   "source": [
    "import numpy as np\n",
    "a=np.ones(3) #numpy格式\n",
    "b=torch.from_numpy(a) #转化为tensor格式\n",
    "a,b"
   ]
  },
  {
   "cell_type": "code",
   "execution_count": 14,
   "id": "8c6594aa",
   "metadata": {},
   "outputs": [
    {
     "data": {
      "text/plain": [
       "(tensor([3.5000]), 3.5, 3)"
      ]
     },
     "execution_count": 14,
     "metadata": {},
     "output_type": "execute_result"
    }
   ],
   "source": [
    "a=torch.tensor([3.5])\n",
    "a,a.item(),int(a) #可以调用item函数,将大小为1的张量转换为Python标量"
   ]
  },
  {
   "cell_type": "markdown",
   "id": "d6b20007",
   "metadata": {},
   "source": [
    "* 张量连接（concatenate）"
   ]
  },
  {
   "cell_type": "code",
   "execution_count": 11,
   "id": "1368b27e",
   "metadata": {},
   "outputs": [
    {
     "name": "stdout",
     "output_type": "stream",
     "text": [
      "tensor([[ 0.,  1.,  2.,  3.],\n",
      "        [ 4.,  5.,  6.,  7.],\n",
      "        [ 8.,  9., 10., 11.]]) \n",
      " tensor([[2., 1., 4., 3.],\n",
      "        [1., 2., 3., 4.],\n",
      "        [4., 3., 2., 1.]])\n"
     ]
    },
    {
     "data": {
      "text/plain": [
       "(tensor([[ 0.,  1.,  2.,  3.],\n",
       "         [ 4.,  5.,  6.,  7.],\n",
       "         [ 8.,  9., 10., 11.],\n",
       "         [ 2.,  1.,  4.,  3.],\n",
       "         [ 1.,  2.,  3.,  4.],\n",
       "         [ 4.,  3.,  2.,  1.]]),\n",
       " tensor([[ 0.,  1.,  2.,  3.,  2.,  1.,  4.,  3.],\n",
       "         [ 4.,  5.,  6.,  7.,  1.,  2.,  3.,  4.],\n",
       "         [ 8.,  9., 10., 11.,  4.,  3.,  2.,  1.]]))"
      ]
     },
     "execution_count": 11,
     "metadata": {},
     "output_type": "execute_result"
    }
   ],
   "source": [
    "X = torch.arange(12, dtype=torch.float32).reshape((3,4))\n",
    "Y = torch.tensor([[2, 1, 4, 3], [1, 2, 3.0, 4], [4, 3, 2, 1]])#其中任意一个float类型，按照广播机制，导致整个连接为float类型\n",
    "print(X,'\\n',Y)\n",
    "torch.cat((X, Y), dim=0), torch.cat((X, Y), dim=1)#第一个输出张量按照轴-0连接，第二个输出张量按照轴-1连接"
   ]
  },
  {
   "cell_type": "code",
   "execution_count": 12,
   "id": "52e26fd7",
   "metadata": {},
   "outputs": [
    {
     "data": {
      "text/plain": [
       "tensor([[False,  True, False,  True],\n",
       "        [False, False, False, False],\n",
       "        [False, False, False, False]])"
      ]
     },
     "execution_count": 12,
     "metadata": {},
     "output_type": "execute_result"
    }
   ],
   "source": [
    "X==Y #通过逻辑运算符构建二元张量,如果X和Y在该位置相等，则新张量中相应项的值为1"
   ]
  },
  {
   "cell_type": "markdown",
   "id": "59ad3526",
   "metadata": {},
   "source": [
    "### 矩阵求导"
   ]
  },
  {
   "cell_type": "code",
   "execution_count": 32,
   "id": "5ede1b11",
   "metadata": {},
   "outputs": [
    {
     "data": {
      "text/plain": [
       "tensor([[0.0318, 0.0060, 0.2856, 0.8253],\n",
       "        [0.3336, 0.8531, 0.4782, 0.4526],\n",
       "        [0.6671, 0.7183, 0.7352, 0.6099]], requires_grad=True)"
      ]
     },
     "execution_count": 32,
     "metadata": {},
     "output_type": "execute_result"
    }
   ],
   "source": [
    "x=torch.rand(3,4,requires_grad=True) #请求追踪路径\n",
    "x"
   ]
  },
  {
   "cell_type": "code",
   "execution_count": 3,
   "id": "fbcdfdb2",
   "metadata": {},
   "outputs": [
    {
     "name": "stdout",
     "output_type": "stream",
     "text": [
      "tensor([[1., 1., 1.],\n",
      "        [1., 1., 1.],\n",
      "        [1., 1., 1.]], requires_grad=True)\n",
      "None\n",
      "tensor([[3., 3., 3.],\n",
      "        [3., 3., 3.],\n",
      "        [3., 3., 3.]], grad_fn=<AddBackward0>)\n",
      "<AddBackward0 object at 0x000002C65BC118E0>\n",
      "True False\n",
      "tensor([[27., 27., 27.],\n",
      "        [27., 27., 27.],\n",
      "        [27., 27., 27.]], grad_fn=<MulBackward0>) tensor(27., grad_fn=<MeanBackward0>)\n",
      "tensor([[2., 2., 2.],\n",
      "        [2., 2., 2.],\n",
      "        [2., 2., 2.]])\n",
      "tensor([[3., 3., 3.],\n",
      "        [3., 3., 3.],\n",
      "        [3., 3., 3.]])\n",
      "tensor([[0., 0., 0.],\n",
      "        [0., 0., 0.],\n",
      "        [0., 0., 0.]])\n"
     ]
    }
   ],
   "source": [
    "x=torch.ones(3,3,requires_grad=True)\n",
    "print(x)\n",
    "print(x.grad_fn)\n",
    "y=x+2\n",
    "print(y)\n",
    "print(y.grad_fn)\n",
    "print(x.is_leaf,y.is_leaf)\n",
    "z=y*y*3\n",
    "out=z.mean()\n",
    "print(z,out)\n",
    "out.backward()\n",
    "print(x.grad)\n",
    "\n",
    "out2=x.sum()\n",
    "out2.backward()\n",
    "print(x.grad) #这里的结果为以前积累的2+现在1=3\n",
    "x.grad.data.zero_() #x的梯度清零\n",
    "print(x.grad)"
   ]
  },
  {
   "cell_type": "code",
   "execution_count": 4,
   "id": "5890c145",
   "metadata": {},
   "outputs": [
    {
     "name": "stdout",
     "output_type": "stream",
     "text": [
      "False\n",
      "tensor([1.1825e+00, 1.2322e+03, 1.2053e+02], grad_fn=<SumBackward1>) <SumBackward1 object at 0x000002C65BC11280>\n"
     ]
    }
   ],
   "source": [
    "a=torch.randn(2,3)\n",
    "a=((a*3)/(a-1))\n",
    "print(a.requires_grad)\n",
    "a.requires_grad_(True)\n",
    "b=(a*a).sum(0)\n",
    "print(b,b.grad_fn)"
   ]
  },
  {
   "cell_type": "code",
   "execution_count": 5,
   "id": "cf705115",
   "metadata": {},
   "outputs": [
    {
     "name": "stdout",
     "output_type": "stream",
     "text": [
      "tensor([[2., 4.],\n",
      "        [6., 8.]], grad_fn=<ViewBackward0>)\n",
      "tensor([2., 2., 2., 2.])\n"
     ]
    }
   ],
   "source": [
    "x=torch.tensor([1.0,2.0,3.0,4.0],requires_grad=True)\n",
    "y=2*x\n",
    "z=y.view(2,2)\n",
    "print(z)\n",
    "v=torch.tensor([[1,1],[1,1]],dtype=torch.float)\n",
    "z.backward(v)\n",
    "print(x.grad)"
   ]
  },
  {
   "cell_type": "markdown",
   "id": "2d30bea8",
   "metadata": {},
   "source": [
    "### 广播机制\n",
    "\n",
    "先适当复制元素使这两个 Tensor 形状相同后再按元素运算。"
   ]
  },
  {
   "cell_type": "code",
   "execution_count": 17,
   "id": "1940f7f1",
   "metadata": {},
   "outputs": [
    {
     "name": "stdout",
     "output_type": "stream",
     "text": [
      "tensor([[0, 1]])\n",
      "tensor([[0],\n",
      "        [1],\n",
      "        [2]])\n",
      "tensor([[0, 1],\n",
      "        [1, 2],\n",
      "        [2, 3]])\n"
     ]
    }
   ],
   "source": [
    "x=torch.arange(2).view(1,2) #arange为一维取值后，拉成1行2列的tensor\n",
    "print(x)\n",
    "y=torch.arange(3).view(3,1) #arange一维取值后，拉成3行1列的tensor\n",
    "print(y)\n",
    "print(x+y)"
   ]
  },
  {
   "cell_type": "markdown",
   "id": "70eb594e",
   "metadata": {},
   "source": [
    "### 节省内存与时间"
   ]
  },
  {
   "cell_type": "code",
   "execution_count": 9,
   "id": "7fc22e5d",
   "metadata": {},
   "outputs": [
    {
     "name": "stdout",
     "output_type": "stream",
     "text": [
      "0.01695561408996582\n"
     ]
    }
   ],
   "source": [
    "import torch\n",
    "from time import time\n",
    "\n",
    "a=torch.ones(1000)\n",
    "b=torch.ones(1000)\n",
    "\n",
    "start=time()#程序执行开始时间\n",
    "c=torch.zeros(1000)\n",
    "for i in range(1000):\n",
    "    c[i]=a[i]+b[i]\n",
    "print(time()-start)#计算程序执行时间"
   ]
  },
  {
   "cell_type": "code",
   "execution_count": 12,
   "id": "c9521733",
   "metadata": {},
   "outputs": [
    {
     "name": "stdout",
     "output_type": "stream",
     "text": [
      "0.0\n"
     ]
    }
   ],
   "source": [
    "start=time()#程序执行开始时间\n",
    "d=a+b\n",
    "print(time()-start)#计算程序执行时间"
   ]
  },
  {
   "cell_type": "code",
   "execution_count": 6,
   "id": "66b57013",
   "metadata": {},
   "outputs": [
    {
     "data": {
      "text/plain": [
       "False"
      ]
     },
     "execution_count": 6,
     "metadata": {},
     "output_type": "execute_result"
    }
   ],
   "source": [
    "import torch\n",
    "import numpy as np\n",
    "x=torch.rand(3,5)\n",
    "y=torch.rand(3,5)\n",
    "before=id(y)\n",
    "y=y+x # 运行Y = Y + X后，我们会发现id(Y)指向另一个位置\n",
    "id(y)==before"
   ]
  },
  {
   "cell_type": "code",
   "execution_count": 8,
   "id": "4ef0d010",
   "metadata": {},
   "outputs": [
    {
     "name": "stdout",
     "output_type": "stream",
     "text": [
      "id(z): 2749069143712\n",
      "id(z): 2749034459280\n"
     ]
    }
   ],
   "source": [
    "z=torch.zeros_like(y)#创建一个新的矩阵Z，其形状与另一个Y相同,使用zeros_like来分配一个全的块\n",
    "print('id(z):',id(z))\n",
    "z=x+y #用固定位置来消化随机内存\n",
    "print('id(z):',id(z))"
   ]
  },
  {
   "cell_type": "code",
   "execution_count": 9,
   "id": "b481c7fb",
   "metadata": {},
   "outputs": [
    {
     "data": {
      "text/plain": [
       "True"
      ]
     },
     "execution_count": 9,
     "metadata": {},
     "output_type": "execute_result"
    }
   ],
   "source": [
    "before=id(x)\n",
    "x+=y #为X[:] = X + Y,占用以前x的内存\n",
    "id(x)==before"
   ]
  },
  {
   "cell_type": "markdown",
   "id": "9f7190b2",
   "metadata": {},
   "source": [
    "### 数据预处理"
   ]
  },
  {
   "cell_type": "code",
   "execution_count": 18,
   "id": "984d1201",
   "metadata": {},
   "outputs": [],
   "source": [
    "import os\n",
    "\n",
    "os.makedirs(os.path.join('C:/Users/shfdragon/Dropbox/python/data', 'py_data'), exist_ok=True)#创建文件夹\n",
    "data_file = os.path.join('C:/Users/shfdragon/Dropbox/python/data', 'py_data', 'house_tiny.csv') #添加文件，拼接文件路径\n",
    "with open(data_file, 'w') as f: #with无论出什么问题都能关闭文件退出\n",
    "    f.write('NumRooms,Alley,Price\\n')  # 列名\n",
    "    f.write('NA,Pave,127500\\n')  # 每行表示一个数据样本\n",
    "    f.write('2,NA,106000\\n')\n",
    "    f.write('4,NA,178100\\n')\n",
    "    f.write('NA,NA,140000\\n')"
   ]
  },
  {
   "cell_type": "code",
   "execution_count": 19,
   "id": "8547fa96",
   "metadata": {},
   "outputs": [
    {
     "name": "stdout",
     "output_type": "stream",
     "text": [
      "   NumRooms Alley   Price\n",
      "0       NaN  Pave  127500\n",
      "1       2.0   NaN  106000\n",
      "2       4.0   NaN  178100\n",
      "3       NaN   NaN  140000\n"
     ]
    }
   ],
   "source": [
    "import pandas as pd #调用pandas\n",
    "\n",
    "data=pd.read_csv(data_file) #读取文件\n",
    "print(data)"
   ]
  },
  {
   "cell_type": "markdown",
   "id": "5a8bf22e",
   "metadata": {},
   "source": [
    "### 生成随机数据集"
   ]
  },
  {
   "cell_type": "code",
   "execution_count": 2,
   "id": "f2b4180b",
   "metadata": {},
   "outputs": [
    {
     "name": "stdout",
     "output_type": "stream",
     "text": [
      "features: tensor([ 2.0927, -0.9053]) \n",
      "label: tensor([11.4690])\n"
     ]
    },
    {
     "data": {
      "text/plain": [
       "<matplotlib.collections.PathCollection at 0x217282025e0>"
      ]
     },
     "execution_count": 2,
     "metadata": {},
     "output_type": "execute_result"
    },
    {
     "data": {
      "image/png": "[encoded data removed]",
      "text/plain": [
       "<Figure size 432x288 with 1 Axes>"
      ]
     },
     "metadata": {
      "needs_background": "light"
     },
     "output_type": "display_data"
    }
   ],
   "source": [
    "import numpy as np\n",
    "import torch\n",
    "import random\n",
    "# from IPython import display\n",
    "from matplotlib import pyplot as plt\n",
    "%matplotlib inline\n",
    "# from mpl_toolkits.mplot3d import Axes3D \n",
    "\n",
    "def synthetic_data(w,b,num_examples): #定义数据集生产函数，传入w,b,样本数\n",
    "    #生成y=Xw+b+噪声\n",
    "    x=torch.normal(0,1,(num_examples,len(w))) #生成期望为0，方差为1的正态分布样本，样本维度与w相同\n",
    "    y=torch.matmul(x,w)+b #matmul为矩阵相乘\n",
    "    y+=torch.normal(0,0.01,y.shape) #参数y.shape为返回值形式\n",
    "    return x,y.reshape((-1,1)) #-1为根据另一个维度为1，自动计算该维度值\n",
    "\n",
    "true_w=torch.tensor([2,-3.4]) #w为两个维度\n",
    "true_b=4.2\n",
    "features,labels=synthetic_data(true_w,true_b,1000)\n",
    "# features中的每⼀⾏都包含⼀个⼆维数据样本，labels中的每⼀⾏都包含⼀维标签值（⼀个标量）。\n",
    "\n",
    "print('features:',features[0],'\\nlabel:',labels[0])\n",
    "\n",
    "plt.scatter(features[:,1].numpy(),labels.numpy(),1)\n"
   ]
  },
  {
   "cell_type": "markdown",
   "id": "e8c481ac",
   "metadata": {},
   "source": [
    "### 读取数据集"
   ]
  },
  {
   "cell_type": "code",
   "execution_count": 3,
   "id": "ba0b9439",
   "metadata": {
    "scrolled": true
   },
   "outputs": [
    {
     "name": "stdout",
     "output_type": "stream",
     "text": [
      "tensor([[-0.5491,  1.7952],\n",
      "        [-0.5514, -1.0891],\n",
      "        [-0.6482, -0.5254],\n",
      "        [ 0.1770,  0.6518],\n",
      "        [-0.6588,  0.7711],\n",
      "        [ 0.4761,  0.8461],\n",
      "        [-2.3033,  0.0821],\n",
      "        [-0.2968, -1.2688],\n",
      "        [ 1.1219, -1.5348],\n",
      "        [ 0.5071, -0.5428]]) \n",
      " tensor([[-2.9924],\n",
      "        [ 6.8095],\n",
      "        [ 4.6987],\n",
      "        [ 2.3329],\n",
      "        [ 0.2607],\n",
      "        [ 2.2693],\n",
      "        [-0.7150],\n",
      "        [ 7.9215],\n",
      "        [11.6651],\n",
      "        [ 7.0495]])\n"
     ]
    }
   ],
   "source": [
    "def data_iter(batch_size,features,labels): #定义数据读取函数，打乱数据集中的样本并以小批量方式获得数据\n",
    "    num_examples = len(features) #读入样本数量，len返回为特征矩阵元素的个数   \n",
    "    indices = list(range(num_examples)) #用样本数量建立列表\n",
    "    random.shuffle(indices) #将列表随机打乱顺序\n",
    "    for i in range(0,num_examples,batch_size): #在样本数量范围内，按照小批量分队取值\n",
    "        batch_indices = torch.tensor(\n",
    "            indices[i:min(i+batch_size, num_examples)]) #对打乱顺序后的列表按照给定数量分段取值，最后是判断如果样本数量不足一队，就此罢休;生成矩阵格式的随机分段列表\n",
    "        yield features[batch_indices], labels[batch_indices] #逐批返回特征值和标签\n",
    "   \n",
    " #直观感受小批量运算：读取第一个小批量数据样本并打印\n",
    "    \n",
    "batch_size =10\n",
    "for x,y in data_iter(batch_size,features,labels):\n",
    "    print(x, '\\n',y)\n",
    "    break #运行迭代，会连续不断获得不同的小批量，直至遍历完整数据集。"
   ]
  },
  {
   "cell_type": "markdown",
   "id": "45fc30db",
   "metadata": {},
   "source": [
    "### 初始化线性回归参数"
   ]
  },
  {
   "cell_type": "code",
   "execution_count": null,
   "id": "e7013cb3",
   "metadata": {},
   "outputs": [],
   "source": [
    "w = torch.normal(0,0.01,size=(2,1),requires_grad=True) #w初始值为正态分布的随机数，2行1列矩阵，即2个维度，要求能反向求导跟踪调整\n",
    "b = torch.zeros(1, requires_grad=True) #偏置b为初始值为0的1维矩阵，同样需要反向求导跟踪调整\n",
    "\n",
    "def linreg(X,w,b): #定义线性回归模型，X为特征=features\n",
    "    return torch.matmul(X,w)+b #虽然b是标量，但是根据广播机制，所有向量分量都会+b"
   ]
  },
  {
   "cell_type": "markdown",
   "id": "7ca2a2d4",
   "metadata": {},
   "source": [
    "### 定义损失函数"
   ]
  },
  {
   "cell_type": "code",
   "execution_count": null,
   "id": "c9eb677e",
   "metadata": {},
   "outputs": [],
   "source": [
    "def squared_loss(y_hat,y): #方差损失\n",
    "    return (y_hat-y.reshape(y_hat.shape))**2/2"
   ]
  },
  {
   "cell_type": "markdown",
   "id": "b10dd5ba",
   "metadata": {},
   "source": [
    "### 梯度下降算法"
   ]
  },
  {
   "cell_type": "code",
   "execution_count": null,
   "id": "d4657a84",
   "metadata": {},
   "outputs": [],
   "source": [
    "def sgd(params, lr, batch_size):#传入参数集合，学习速率，批量大小\n",
    "    with torch.no_grad():\n",
    "        for param in params:\n",
    "            param-=lr*param.grad/batch_size\n",
    "            param.grad.zero_()"
   ]
  },
  {
   "cell_type": "code",
   "execution_count": 1,
   "id": "dfcde1c4",
   "metadata": {},
   "outputs": [
    {
     "data": {
      "text/plain": [
       "Text(0, 0.5, 'ylabel')"
      ]
     },
     "execution_count": 1,
     "metadata": {},
     "output_type": "execute_result"
    },
    {
     "data": {
      "image/png": "[encoded data removed]",
      "text/plain": [
       "<Figure size 432x288 with 1 Axes>"
      ]
     },
     "metadata": {
      "needs_background": "light"
     },
     "output_type": "display_data"
    }
   ],
   "source": [
    "import numpy as np\n",
    "import matplotlib.pyplot as plt\n",
    "%matplotlib inline\n",
    "\n",
    "plt.plot([1,2,3,4,5],[1,4,9,16,25],'c-.')\n",
    "plt.xlabel('xlabel',fontsize=16)\n",
    "plt.ylabel('ylabel',fontsize=16)"
   ]
  },
  {
   "cell_type": "markdown",
   "id": "9959fc9a",
   "metadata": {},
   "source": [
    "### 简单实现线性回归\n",
    "\n",
    "* 生成数据集"
   ]
  },
  {
   "cell_type": "code",
   "execution_count": 2,
   "id": "df6aa201",
   "metadata": {},
   "outputs": [],
   "source": [
    "import numpy as np\n",
    "import torch\n",
    "import random\n",
    "from torch.utils import data\n",
    "\n",
    "def synthetic_data(w,b,num_examples): #定义数据集生产函数，传入w,b,样本数\n",
    "    #生成y=Xw+b+噪声\n",
    "    x=torch.normal(0,1,(num_examples,len(w))) #生成期望为0，方差为1的正态分布样本，样本维度与w相同\n",
    "    y=torch.matmul(x,w)+b #matmul为矩阵相乘\n",
    "    y+=torch.normal(0,0.01,y.shape) #参数y.shape为返回值形式\n",
    "    return x,y.reshape((-1,1)) #-1为根据另一个维度为1，自动计算该维度值\n",
    "\n",
    "true_w=torch.tensor([2,-3.4]) #w为两个维度\n",
    "true_b=4.2\n",
    "features,labels=synthetic_data(true_w,true_b,1000)\n",
    "# features中的每⼀⾏都包含⼀个⼆维数据样本，labels中的每⼀⾏都包含⼀维标签值（⼀个标量）。"
   ]
  },
  {
   "cell_type": "markdown",
   "id": "2436ee38",
   "metadata": {},
   "source": [
    "* 读取数据集"
   ]
  },
  {
   "cell_type": "code",
   "execution_count": null,
   "id": "e240c272",
   "metadata": {},
   "outputs": [],
   "source": []
  }
 ],
 "metadata": {
  "kernelspec": {
   "display_name": "Python 3 (ipykernel)",
   "language": "python",
   "name": "python3"
  },
  "language_info": {
   "codemirror_mode": {
    "name": "ipython",
    "version": 3
   },
   "file_extension": ".py",
   "mimetype": "text/x-python",
   "name": "python",
   "nbconvert_exporter": "python",
   "pygments_lexer": "ipython3",
   "version": "3.9.12"
  }
 },
 "nbformat": 4,
 "nbformat_minor": 5
}
